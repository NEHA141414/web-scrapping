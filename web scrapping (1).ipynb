{
 "cells": [
  {
   "cell_type": "code",
   "execution_count": 3,
   "id": "dd061724-00b1-40de-a3ac-8e63de034b2f",
   "metadata": {},
   "outputs": [],
   "source": [
    "import requests\n",
    "from bs4 import BeautifulSoup as bs\n",
    "from urllib.request import urlopen as uReq\n",
    "import logging"
   ]
  },
  {
   "cell_type": "code",
   "execution_count": 4,
   "id": "9ab1b4eb-1488-4008-b49f-8679fb00e3b4",
   "metadata": {},
   "outputs": [],
   "source": [
    "flipcart_url=\"https://www.flipkart.com/search?q=\"+ \"iphone12pro\""
   ]
  },
  {
   "cell_type": "code",
   "execution_count": 5,
   "id": "8cfe64c3-2eff-44f4-81cd-b3612c2a70f5",
   "metadata": {},
   "outputs": [
    {
     "data": {
      "text/plain": [
       "'https://www.flipkart.com/search?q=iphone12pro'"
      ]
     },
     "execution_count": 5,
     "metadata": {},
     "output_type": "execute_result"
    }
   ],
   "source": [
    "flipcart_url"
   ]
  },
  {
   "cell_type": "code",
   "execution_count": 6,
   "id": "a7f19347-564c-4ca6-aadc-5a6e1930c3a4",
   "metadata": {},
   "outputs": [],
   "source": [
    "urlclient=uReq(flipcart_url)"
   ]
  },
  {
   "cell_type": "code",
   "execution_count": 7,
   "id": "e4466e8c-c886-4312-b20b-f1b7501fc9f0",
   "metadata": {},
   "outputs": [
    {
     "data": {
      "text/plain": [
       "<http.client.HTTPResponse at 0x7f4598e21870>"
      ]
     },
     "execution_count": 7,
     "metadata": {},
     "output_type": "execute_result"
    }
   ],
   "source": [
    "urlclient"
   ]
  },
  {
   "cell_type": "code",
   "execution_count": 8,
   "id": "d30faf60-5499-4bc5-87b6-a2234f46b25d",
   "metadata": {},
   "outputs": [],
   "source": [
    "flipcart_page=urlclient.read()"
   ]
  },
  {
   "cell_type": "code",
   "execution_count": 9,
   "id": "1c39411b-ba5d-4835-89b4-ac28a4b674d8",
   "metadata": {},
   "outputs": [],
   "source": [
    "flipcart_html=bs(flipcart_page,'html.parser')"
   ]
  },
  {
   "cell_type": "code",
   "execution_count": 10,
   "id": "0dc32831-5918-40a3-8ad7-16d501a5c3a2",
   "metadata": {},
   "outputs": [
    {
     "data": {
      "text/plain": [
       "'https://www.flipkart.com/apple-iphone-12-pro-silver-256-gb/p/itm41ac927e82906?pid=iphone12pro'"
      ]
     },
     "execution_count": 10,
     "metadata": {},
     "output_type": "execute_result"
    }
   ],
   "source": [
    "\"https://www.flipkart.com/apple-iphone-12-pro-silver-256-gb/p/itm41ac927e82906?pid=\" +\"iphone12pro\""
   ]
  },
  {
   "cell_type": "code",
   "execution_count": 13,
   "id": "019a8ec1-727c-4554-b8cd-372b09d9cae5",
   "metadata": {},
   "outputs": [],
   "source": [
    "bigbox=flipcart_html.findAll(\"div\",{\"class\":\"_1AtVbE col-12-12\"})"
   ]
  },
  {
   "cell_type": "code",
   "execution_count": 14,
   "id": "90dfb5d5-f274-4560-b8e0-b5f7eb798251",
   "metadata": {},
   "outputs": [
    {
     "data": {
      "text/plain": [
       "29"
      ]
     },
     "execution_count": 14,
     "metadata": {},
     "output_type": "execute_result"
    }
   ],
   "source": [
    "len(bigbox)"
   ]
  },
  {
   "cell_type": "code",
   "execution_count": 15,
   "id": "ea1f0ffe-790b-41de-93f7-0b4ae2f8c665",
   "metadata": {
    "tags": []
   },
   "outputs": [],
   "source": [
    "del bigbox[0:3]"
   ]
  },
  {
   "cell_type": "code",
   "execution_count": 16,
   "id": "08988b46-3d53-4e4a-910b-f70734927aed",
   "metadata": {},
   "outputs": [],
   "source": [
    "productlink=\"https://www.flipkart.com\" + bigbox[3].div.div.div.a['href']"
   ]
  },
  {
   "cell_type": "code",
   "execution_count": 17,
   "id": "6b7ba398-1bf3-4a1b-a740-324df2ca0013",
   "metadata": {},
   "outputs": [],
   "source": [
    "product_req=requests.get(productlink)"
   ]
  },
  {
   "cell_type": "code",
   "execution_count": 18,
   "id": "b45e0fbd-2932-4644-81d0-b32555a34b63",
   "metadata": {},
   "outputs": [
    {
     "data": {
      "text/plain": [
       "'https://www.flipkart.com/apple-iphone-12-pro-max-silver-128-gb/p/itm5a51ba742a17e?pid=MOBFWBYZNSNVGGZC&lid=LSTMOBFWBYZNSNVGGZCTPGZZU&marketplace=FLIPKART&q=iphone12pro&store=tyy%2F4io&srno=s_1_5&otracker=search&fm=organic&iid=51f7f76e-085f-434a-9d8c-cf5162ffdd8a.MOBFWBYZNSNVGGZC.SEARCH&ppt=None&ppn=None&ssid=b2dtzxj1rk0000001696089354200&qH=712933e6bd68e7b9'"
      ]
     },
     "execution_count": 18,
     "metadata": {},
     "output_type": "execute_result"
    }
   ],
   "source": [
    "productlink"
   ]
  },
  {
   "cell_type": "code",
   "execution_count": 19,
   "id": "3b7af369-8340-4b87-a8e4-a5ae2d432c37",
   "metadata": {},
   "outputs": [],
   "source": [
    "product_html=bs(product_req.text,'html.parser')"
   ]
  },
  {
   "cell_type": "code",
   "execution_count": 20,
   "id": "b6a636ff-3941-4bee-bfcc-68714b1d319b",
   "metadata": {},
   "outputs": [],
   "source": [
    "comment_box=product_html.find_all(\"div\",{\"class\" : \"_16PBlm\"})"
   ]
  },
  {
   "cell_type": "code",
   "execution_count": 21,
   "id": "fc31d55c-ed47-4bee-8086-a565f91eb5f8",
   "metadata": {},
   "outputs": [
    {
     "data": {
      "text/plain": [
       "'https://www.flipkart.com/apple-iphone-12-pro-gold-512-gb/p/itm157b3be191fd1?pid=MOBFWBYZGKFYVTWH&lid=LSTMOBFWBYZGKFYVTWHR65UKC&marketplace=FLIPKART&q=iphone12pro'"
      ]
     },
     "execution_count": 21,
     "metadata": {},
     "output_type": "execute_result"
    }
   ],
   "source": [
    "\"https://www.flipkart.com/\"+\"apple-iphone-12-pro-gold-512-gb/p/itm157b3be191fd1?pid=MOBFWBYZGKFYVTWH&lid=LSTMOBFWBYZGKFYVTWHR65UKC&marketplace=FLIPKART&q=iphone12pro\""
   ]
  },
  {
   "cell_type": "code",
   "execution_count": 22,
   "id": "a9b42afa-32a5-4edf-976e-f38cc5b4e495",
   "metadata": {},
   "outputs": [],
   "source": [
    "flipcart_html.find(\"div\",{\"class\":\"1AtVbE COL-12-12\"})"
   ]
  },
  {
   "cell_type": "code",
   "execution_count": 57,
   "id": "e1502bec-4701-473b-a21e-376feda13054",
   "metadata": {},
   "outputs": [
    {
     "data": {
      "text/plain": [
       "11"
      ]
     },
     "execution_count": 57,
     "metadata": {},
     "output_type": "execute_result"
    }
   ],
   "source": [
    "len(comment_box)"
   ]
  },
  {
   "cell_type": "code",
   "execution_count": 65,
   "id": "8635366d-05a4-4500-ad3d-696b6b75e6c3",
   "metadata": {},
   "outputs": [
    {
     "name": "stdout",
     "output_type": "stream",
     "text": [
      "indeed a great phone feels premium in hand but battery life is low\n",
      "Its just Perfect . Prices are a bit high .\n",
      "The camera is mind-blowing I love it 😘\n",
      "Best designed iPhone\n",
      "A masterpiece to cherish.\n",
      "I have been using iPhones for years, but the fast charging and battery on this one is brilliant. Like i always say, iPhone is more of a jewellery than a phone. But this one has some power-packed features and an awesome camera. So if you can afford it, buy it!\n",
      "I like the most in this phone:-1. I like the size of this phone because it is easy to hold.2. The camera quality of this phone is admirable. 3. Battery backup is good.4. The new design and colour  of this phone also a plus point of its beauty.5. These  points are my personal which i like most in this phone.\n",
      "This one of the best iPhone ever built, though battery backup isn’t good. But the user experience is brilliant.Upgraded from 11 Pro.\n",
      "I purchased this phone 4 my wife.i give her surprised gift.she was so happy that her tears came when she saw this gift☺️.Some reviews after 4 days use1. Looks awesome 👌2. Camera quality superb❤️3. Battery avarage normal🤟4. According 2 price its below avarage 🤏5. Performance no 1👍\n",
      "Premium quality iPhone💯\n"
     ]
    },
    {
     "ename": "AttributeError",
     "evalue": "'NoneType' object has no attribute 'div'",
     "output_type": "error",
     "traceback": [
      "\u001b[0;31m---------------------------------------------------------------------------\u001b[0m",
      "\u001b[0;31mAttributeError\u001b[0m                            Traceback (most recent call last)",
      "Cell \u001b[0;32mIn[65], line 2\u001b[0m\n\u001b[1;32m      1\u001b[0m \u001b[38;5;28;01mfor\u001b[39;00m i \u001b[38;5;129;01min\u001b[39;00m comment_box:\n\u001b[0;32m----> 2\u001b[0m     \u001b[38;5;28mprint\u001b[39m(\u001b[43mi\u001b[49m\u001b[38;5;241;43m.\u001b[39;49m\u001b[43mdiv\u001b[49m\u001b[38;5;241;43m.\u001b[39;49m\u001b[43mdiv\u001b[49m\u001b[38;5;241m.\u001b[39mfind_all(\u001b[38;5;124m'\u001b[39m\u001b[38;5;124mdiv\u001b[39m\u001b[38;5;124m'\u001b[39m,{\u001b[38;5;124m\"\u001b[39m\u001b[38;5;124mclass\u001b[39m\u001b[38;5;124m\"\u001b[39m : \u001b[38;5;124m'\u001b[39m\u001b[38;5;124m'\u001b[39m})[\u001b[38;5;241m0\u001b[39m]\u001b[38;5;241m.\u001b[39mdiv\u001b[38;5;241m.\u001b[39mtext)\n",
      "\u001b[0;31mAttributeError\u001b[0m: 'NoneType' object has no attribute 'div'"
     ]
    }
   ],
   "source": [
    "for i in comment_box:\n",
    "    print(i.div.div.find_all('div',{\"class\" : ''})[0].div.text)"
   ]
  },
  {
   "cell_type": "code",
   "execution_count": 62,
   "id": "c20dd363-ab3e-4859-860c-02a63af3b4cd",
   "metadata": {},
   "outputs": [
    {
     "data": {
      "text/plain": [
       "'indeed a great phone feels premium in hand but battery life is low'"
      ]
     },
     "execution_count": 62,
     "metadata": {},
     "output_type": "execute_result"
    }
   ],
   "source": [
    "comment_box[0].div.div.find_all(\"div\",{\"class\":''})[0].div.text"
   ]
  },
  {
   "cell_type": "code",
   "execution_count": 20,
   "id": "035a877a-665b-4d4d-bafa-bbb416a973ae",
   "metadata": {},
   "outputs": [
    {
     "name": "stdout",
     "output_type": "stream",
     "text": [
      "https://www.flipkart.com/apple-iphone-12-pro-gold-512-gb/p/itm157b3be191fd1?pid=MOBFWBYZGKFYVTWH&lid=LSTMOBFWBYZGKFYVTWHR65UKC&marketplace=FLIPKART&q=iphone12pro&store=tyy%2F4io&srno=s_1_1&otracker=search&fm=organic&iid=a55e4a6f-570a-4d4f-b4f8-645130e21075.MOBFWBYZGKFYVTWH.SEARCH&ppt=None&ppn=None&ssid=qs79m9q38g0000001693933445527&qH=712933e6bd68e7b9\n",
      "https://www.flipkart.com/apple-iphone-12-pro-silver-512-gb/p/itm0ccf9fc219a71?pid=MOBFWBYZ5UY6ZBVA&lid=LSTMOBFWBYZ5UY6ZBVAWNVLCR&marketplace=FLIPKART&q=iphone12pro&store=tyy%2F4io&srno=s_1_2&otracker=search&fm=organic&iid=a55e4a6f-570a-4d4f-b4f8-645130e21075.MOBFWBYZ5UY6ZBVA.SEARCH&ppt=None&ppn=None&ssid=qs79m9q38g0000001693933445527&qH=712933e6bd68e7b9\n",
      "https://www.flipkart.com/apple-iphone-12-pro-max-graphite-128-gb/p/itm973c298184f51?pid=MOBFWBYZFDGQSDWS&lid=LSTMOBFWBYZFDGQSDWS6UBAEI&marketplace=FLIPKART&q=iphone12pro&store=tyy%2F4io&srno=s_1_3&otracker=search&fm=organic&iid=a55e4a6f-570a-4d4f-b4f8-645130e21075.MOBFWBYZFDGQSDWS.SEARCH&ppt=None&ppn=None&ssid=qs79m9q38g0000001693933445527&qH=712933e6bd68e7b9\n",
      "https://www.flipkart.com/apple-iphone-12-pro-graphite-512-gb/p/itmdf0ffb4f2150f?pid=MOBFWBYZ4ZZ5VUQD&lid=LSTMOBFWBYZ4ZZ5VUQDSMPMJK&marketplace=FLIPKART&q=iphone12pro&store=tyy%2F4io&srno=s_1_4&otracker=search&fm=organic&iid=a55e4a6f-570a-4d4f-b4f8-645130e21075.MOBFWBYZ4ZZ5VUQD.SEARCH&ppt=None&ppn=None&ssid=qs79m9q38g0000001693933445527&qH=712933e6bd68e7b9\n",
      "https://www.flipkart.com/apple-iphone-12-pro-max-gold-512-gb/p/itmd164e2fef2871?pid=MOBFWBYZ4AG3FGNW&lid=LSTMOBFWBYZ4AG3FGNWL6UEHL&marketplace=FLIPKART&q=iphone12pro&store=tyy%2F4io&srno=s_1_5&otracker=search&fm=organic&iid=a55e4a6f-570a-4d4f-b4f8-645130e21075.MOBFWBYZ4AG3FGNW.SEARCH&ppt=None&ppn=None&ssid=qs79m9q38g0000001693933445527&qH=712933e6bd68e7b9\n",
      "https://www.flipkart.com/apple-iphone-12-pro-graphite-256-gb/p/itm4fa4da575698c?pid=MOBFWBYZBA36UB7G&lid=LSTMOBFWBYZBA36UB7GZYS7EA&marketplace=FLIPKART&q=iphone12pro&store=tyy%2F4io&srno=s_1_6&otracker=search&fm=organic&iid=a55e4a6f-570a-4d4f-b4f8-645130e21075.MOBFWBYZBA36UB7G.SEARCH&ppt=None&ppn=None&ssid=qs79m9q38g0000001693933445527&qH=712933e6bd68e7b9\n",
      "https://www.flipkart.com/apple-iphone-12-pro-max-gold-256-gb/p/itm1e0354f5bbc8c?pid=MOBFWBYZZPW8JHQF&lid=LSTMOBFWBYZZPW8JHQFVJR3PO&marketplace=FLIPKART&q=iphone12pro&store=tyy%2F4io&srno=s_1_7&otracker=search&fm=organic&iid=a55e4a6f-570a-4d4f-b4f8-645130e21075.MOBFWBYZZPW8JHQF.SEARCH&ppt=None&ppn=None&ssid=qs79m9q38g0000001693933445527&qH=712933e6bd68e7b9\n",
      "https://www.flipkart.com/apple-iphone-12-pro-pacific-blue-512-gb/p/itm8a39d6779b04e?pid=MOBFWBYZTHSXKMGW&lid=LSTMOBFWBYZTHSXKMGWYPOFI5&marketplace=FLIPKART&q=iphone12pro&store=tyy%2F4io&srno=s_1_8&otracker=search&fm=organic&iid=a55e4a6f-570a-4d4f-b4f8-645130e21075.MOBFWBYZTHSXKMGW.SEARCH&ppt=None&ppn=None&ssid=qs79m9q38g0000001693933445527&qH=712933e6bd68e7b9\n",
      "https://www.flipkart.com/apple-iphone-12-pro-gold-256-gb/p/itm43a6a8ee7a1e7?pid=MOBFWBYZ9NGKZS9W&lid=LSTMOBFWBYZ9NGKZS9WYZ2SXA&marketplace=FLIPKART&q=iphone12pro&store=tyy%2F4io&srno=s_1_9&otracker=search&fm=organic&iid=a55e4a6f-570a-4d4f-b4f8-645130e21075.MOBFWBYZ9NGKZS9W.SEARCH&ppt=None&ppn=None&ssid=qs79m9q38g0000001693933445527&qH=712933e6bd68e7b9\n",
      "https://www.flipkart.com/apple-iphone-12-pro-max-pacific-blue-512-gb/p/itme005d7afeb4a3?pid=MOBFWBYZPW4KW4XX&lid=LSTMOBFWBYZPW4KW4XXXYHC14&marketplace=FLIPKART&q=iphone12pro&store=tyy%2F4io&srno=s_1_10&otracker=search&fm=organic&iid=a55e4a6f-570a-4d4f-b4f8-645130e21075.MOBFWBYZPW4KW4XX.SEARCH&ppt=None&ppn=None&ssid=qs79m9q38g0000001693933445527&qH=712933e6bd68e7b9\n",
      "https://www.flipkart.com/apple-iphone-12-pro-silver-256-gb/p/itm41ac927e82906?pid=MOBFWBYZMZTJZTWK&lid=LSTMOBFWBYZMZTJZTWKDI2TP0&marketplace=FLIPKART&q=iphone12pro&store=tyy%2F4io&srno=s_1_11&otracker=search&fm=organic&iid=a55e4a6f-570a-4d4f-b4f8-645130e21075.MOBFWBYZMZTJZTWK.SEARCH&ppt=None&ppn=None&ssid=qs79m9q38g0000001693933445527&qH=712933e6bd68e7b9\n",
      "https://www.flipkart.com/apple-iphone-12-pro-max-silver-128-gb/p/itm5a51ba742a17e?pid=MOBFWBYZNSNVGGZC&lid=LSTMOBFWBYZNSNVGGZCTPGZZU&marketplace=FLIPKART&q=iphone12pro&store=tyy%2F4io&srno=s_1_12&otracker=search&fm=organic&iid=a55e4a6f-570a-4d4f-b4f8-645130e21075.MOBFWBYZNSNVGGZC.SEARCH&ppt=None&ppn=None&ssid=qs79m9q38g0000001693933445527&qH=712933e6bd68e7b9\n",
      "https://www.flipkart.com/apple-iphone-12-pro-max-gold-128-gb/p/itme3ae592065711?pid=MOBFWBYZQVKT77YH&lid=LSTMOBFWBYZQVKT77YHP1ERRT&marketplace=FLIPKART&q=iphone12pro&store=tyy%2F4io&srno=s_1_13&otracker=search&fm=organic&iid=a55e4a6f-570a-4d4f-b4f8-645130e21075.MOBFWBYZQVKT77YH.SEARCH&ppt=None&ppn=None&ssid=qs79m9q38g0000001693933445527&qH=712933e6bd68e7b9\n",
      "https://www.flipkart.com/apple-iphone-12-pro-pacific-blue-256-gb/p/itmea897274baa30?pid=MOBFWBYZVRPH2UCD&lid=LSTMOBFWBYZVRPH2UCDHPQUAR&marketplace=FLIPKART&q=iphone12pro&store=tyy%2F4io&srno=s_1_14&otracker=search&fm=organic&iid=a55e4a6f-570a-4d4f-b4f8-645130e21075.MOBFWBYZVRPH2UCD.SEARCH&ppt=None&ppn=None&ssid=qs79m9q38g0000001693933445527&qH=712933e6bd68e7b9\n",
      "https://www.flipkart.com/apple-iphone-12-pro-graphite-128-gb/p/itm03e5f2595d843?pid=MOBFWBYZBZ7Y56WD&lid=LSTMOBFWBYZBZ7Y56WDFWEMSD&marketplace=FLIPKART&q=iphone12pro&store=tyy%2F4io&srno=s_1_15&otracker=search&fm=organic&iid=a55e4a6f-570a-4d4f-b4f8-645130e21075.MOBFWBYZBZ7Y56WD.SEARCH&ppt=None&ppn=None&ssid=qs79m9q38g0000001693933445527&qH=712933e6bd68e7b9\n",
      "https://www.flipkart.com/apple-iphone-12-pro-max-graphite-512-gb/p/itm52a5e8e630441?pid=MOBFWBYZZZ6DWWFZ&lid=LSTMOBFWBYZZZ6DWWFZJWJVPK&marketplace=FLIPKART&q=iphone12pro&store=tyy%2F4io&srno=s_1_16&otracker=search&fm=organic&iid=a55e4a6f-570a-4d4f-b4f8-645130e21075.MOBFWBYZZZ6DWWFZ.SEARCH&ppt=None&ppn=None&ssid=qs79m9q38g0000001693933445527&qH=712933e6bd68e7b9\n",
      "https://www.flipkart.com/apple-iphone-12-pro-max-pacific-blue-256-gb/p/itm3a0860c94250e?pid=MOBFWBYZ8STJXCVT&lid=LSTMOBFWBYZ8STJXCVTQTZADP&marketplace=FLIPKART&q=iphone12pro&store=tyy%2F4io&srno=s_1_17&otracker=search&fm=organic&iid=a55e4a6f-570a-4d4f-b4f8-645130e21075.MOBFWBYZ8STJXCVT.SEARCH&ppt=None&ppn=None&ssid=qs79m9q38g0000001693933445527&qH=712933e6bd68e7b9\n",
      "https://www.flipkart.com/apple-iphone-12-pro-max-silver-512-gb/p/itm5d3d37892544f?pid=MOBFWBYZW38NGPNM&lid=LSTMOBFWBYZW38NGPNMW4SVPI&marketplace=FLIPKART&q=iphone12pro&store=tyy%2F4io&srno=s_1_18&otracker=search&fm=organic&iid=a55e4a6f-570a-4d4f-b4f8-645130e21075.MOBFWBYZW38NGPNM.SEARCH&ppt=None&ppn=None&ssid=qs79m9q38g0000001693933445527&qH=712933e6bd68e7b9\n",
      "https://www.flipkart.com/apple-iphone-12-pro-pacific-blue-128-gb/p/itm97c833296c221?pid=MOBFWBYZXYSCEEEH&lid=LSTMOBFWBYZXYSCEEEHLGQLJT&marketplace=FLIPKART&q=iphone12pro&store=tyy%2F4io&srno=s_1_19&otracker=search&fm=organic&iid=a55e4a6f-570a-4d4f-b4f8-645130e21075.MOBFWBYZXYSCEEEH.SEARCH&ppt=None&ppn=None&ssid=qs79m9q38g0000001693933445527&qH=712933e6bd68e7b9\n",
      "https://www.flipkart.com/apple-iphone-12-pro-max-graphite-256-gb/p/itm8dbdf0b986725?pid=MOBFWBYZEF6XQ5ZW&lid=LSTMOBFWBYZEF6XQ5ZWBZ3ZKD&marketplace=FLIPKART&q=iphone12pro&store=tyy%2F4io&srno=s_1_20&otracker=search&fm=organic&iid=a55e4a6f-570a-4d4f-b4f8-645130e21075.MOBFWBYZEF6XQ5ZW.SEARCH&ppt=None&ppn=None&ssid=qs79m9q38g0000001693933445527&qH=712933e6bd68e7b9\n",
      "https://www.flipkart.com/apple-iphone-12-pro-max-pacific-blue-128-gb/p/itmd89812b558a03?pid=MOBFWBYZZABKHZQA&lid=LSTMOBFWBYZZABKHZQATE6G93&marketplace=FLIPKART&q=iphone12pro&store=tyy%2F4io&srno=s_1_21&otracker=search&fm=organic&iid=a55e4a6f-570a-4d4f-b4f8-645130e21075.MOBFWBYZZABKHZQA.SEARCH&ppt=None&ppn=None&ssid=qs79m9q38g0000001693933445527&qH=712933e6bd68e7b9\n",
      "https://www.flipkart.com/apple-iphone-12-pro-silver-128-gb/p/itmaebc8a0edc292?pid=MOBFWBYZSGN526X4&lid=LSTMOBFWBYZSGN526X4XSCKOE&marketplace=FLIPKART&q=iphone12pro&store=tyy%2F4io&srno=s_1_22&otracker=search&fm=organic&iid=a55e4a6f-570a-4d4f-b4f8-645130e21075.MOBFWBYZSGN526X4.SEARCH&ppt=None&ppn=None&ssid=qs79m9q38g0000001693933445527&qH=712933e6bd68e7b9\n",
      "https://www.flipkart.com/apple-iphone-12-pro-max-silver-256-gb/p/itm30faf74442adb?pid=MOBFWBYZZH4AM8FE&lid=LSTMOBFWBYZZH4AM8FETYFBOG&marketplace=FLIPKART&q=iphone12pro&store=tyy%2F4io&srno=s_1_23&otracker=search&fm=organic&iid=a55e4a6f-570a-4d4f-b4f8-645130e21075.MOBFWBYZZH4AM8FE.SEARCH&ppt=None&ppn=None&ssid=qs79m9q38g0000001693933445527&qH=712933e6bd68e7b9\n",
      "https://www.flipkart.com/apple-iphone-12-pro-gold-128-gb/p/itma14a108237af5?pid=MOBFWBYZMDJZMHA9&lid=LSTMOBFWBYZMDJZMHA9SVNUXV&marketplace=FLIPKART&q=iphone12pro&store=tyy%2F4io&srno=s_1_24&otracker=search&fm=organic&iid=a55e4a6f-570a-4d4f-b4f8-645130e21075.MOBFWBYZMDJZMHA9.SEARCH&ppt=None&ppn=None&ssid=qs79m9q38g0000001693933445527&qH=712933e6bd68e7b9\n"
     ]
    },
    {
     "ename": "AttributeError",
     "evalue": "'NoneType' object has no attribute 'a'",
     "output_type": "error",
     "traceback": [
      "\u001b[0;31m---------------------------------------------------------------------------\u001b[0m",
      "\u001b[0;31mAttributeError\u001b[0m                            Traceback (most recent call last)",
      "Cell \u001b[0;32mIn[20], line 2\u001b[0m\n\u001b[1;32m      1\u001b[0m \u001b[38;5;28;01mfor\u001b[39;00m i \u001b[38;5;129;01min\u001b[39;00m bigbox:\n\u001b[0;32m----> 2\u001b[0m     \u001b[38;5;28mprint\u001b[39m(\u001b[38;5;124m\"\u001b[39m\u001b[38;5;124mhttps://www.flipkart.com\u001b[39m\u001b[38;5;124m\"\u001b[39m \u001b[38;5;241m+\u001b[39m\u001b[43mi\u001b[49m\u001b[38;5;241;43m.\u001b[39;49m\u001b[43mdiv\u001b[49m\u001b[38;5;241;43m.\u001b[39;49m\u001b[43mdiv\u001b[49m\u001b[38;5;241;43m.\u001b[39;49m\u001b[43mdiv\u001b[49m\u001b[38;5;241;43m.\u001b[39;49m\u001b[43ma\u001b[49m[\u001b[38;5;124m'\u001b[39m\u001b[38;5;124mhref\u001b[39m\u001b[38;5;124m'\u001b[39m] )\n",
      "\u001b[0;31mAttributeError\u001b[0m: 'NoneType' object has no attribute 'a'"
     ]
    }
   ],
   "source": [
    "for i in bigbox:\n",
    "    print(\"https://www.flipkart.com\" +i.div.div.div.a['href'] )"
   ]
  },
  {
   "cell_type": "code",
   "execution_count": null,
   "id": "0bbf2b2d-0090-4ce3-a90b-b788ed721c48",
   "metadata": {},
   "outputs": [],
   "source": []
  }
 ],
 "metadata": {
  "kernelspec": {
   "display_name": "Python 3 (ipykernel)",
   "language": "python",
   "name": "python3"
  },
  "language_info": {
   "codemirror_mode": {
    "name": "ipython",
    "version": 3
   },
   "file_extension": ".py",
   "mimetype": "text/x-python",
   "name": "python",
   "nbconvert_exporter": "python",
   "pygments_lexer": "ipython3",
   "version": "3.10.8"
  }
 },
 "nbformat": 4,
 "nbformat_minor": 5
}
